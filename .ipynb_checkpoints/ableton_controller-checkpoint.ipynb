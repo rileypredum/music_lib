{
 "cells": [
  {
   "cell_type": "code",
   "execution_count": 1,
   "id": "31e950f1-326e-4286-9229-9d70ff9fded2",
   "metadata": {},
   "outputs": [
    {
     "name": "stdout",
     "output_type": "stream",
     "text": [
      "✅ Connected to Ableton Live.\n",
      "🎵 Clip at Track 1, Slot 5 renamed to: test\n",
      "\n",
      "🛑 Monitoring stopped by user.\n"
     ]
    }
   ],
   "source": [
    "import time\n",
    "from live import Set\n",
    "\n",
    "def monitor_clip_and_track_names(interval=1.0):\n",
    "    \"\"\"\n",
    "    Rescans the Live set every interval seconds to check for track and clip name changes.\n",
    "    \"\"\"\n",
    "    print(\"✅ Connected to Ableton Live.\")\n",
    "    last_names = {}\n",
    "\n",
    "    try:\n",
    "        while True:\n",
    "            live_set = Set(scan=True)  # 👈 Rescan each loop\n",
    "\n",
    "            for t_idx, track in enumerate(live_set.tracks):\n",
    "                track_key = (t_idx, 'track')\n",
    "                track_name = track.name\n",
    "                if track_key in last_names and last_names[track_key] != track_name:\n",
    "                    print(f\"🎛️ Track {t_idx + 1} renamed to: {track_name}\")\n",
    "                last_names[track_key] = track_name\n",
    "\n",
    "                for c_idx, clip in enumerate(track.clips):\n",
    "                    if clip is None:\n",
    "                        continue\n",
    "                    clip_key = (t_idx, c_idx)\n",
    "                    clip_name = clip.name\n",
    "                    if clip_key in last_names and last_names[clip_key] != clip_name:\n",
    "                        print(f\"🎵 Clip at Track {t_idx + 1}, Slot {c_idx + 1} renamed to: {clip_name}\")\n",
    "                    last_names[clip_key] = clip_name\n",
    "\n",
    "            time.sleep(interval)\n",
    "\n",
    "    except KeyboardInterrupt:\n",
    "        print(\"\\n🛑 Monitoring stopped by user.\")\n",
    "\n",
    "if __name__ == \"__main__\":\n",
    "    monitor_clip_and_track_names()"
   ]
  }
 ],
 "metadata": {
  "kernelspec": {
   "display_name": "Python 3 (ipykernel)",
   "language": "python",
   "name": "python3"
  },
  "language_info": {
   "codemirror_mode": {
    "name": "ipython",
    "version": 3
   },
   "file_extension": ".py",
   "mimetype": "text/x-python",
   "name": "python",
   "nbconvert_exporter": "python",
   "pygments_lexer": "ipython3",
   "version": "3.12.10"
  }
 },
 "nbformat": 4,
 "nbformat_minor": 5
}
