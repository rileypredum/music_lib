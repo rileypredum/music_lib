{
 "cells": [
  {
   "cell_type": "code",
   "execution_count": 1,
   "id": "22d297dc-1ff3-42f8-9741-0a1b2466b2d3",
   "metadata": {},
   "outputs": [
    {
     "name": "stdout",
     "output_type": "stream",
     "text": [
      "🎹 Preparing to compose your chord progression...\n",
      "⏱️  Time signature: 4/4, Note division: 1/1\n",
      "🎼  Roots: C, E, F, A | Vibe: bedroom pop | Bars: 4\n",
      "🤖 Summoning Ollama to voice the chords creatively...\n",
      "✅ Ollama delivered the chords! Crafting MIDI...\n",
      "🎶 Laying down chords on the digital staff...\n",
      "💾 Saving your masterpiece...\n",
      "🎉 Done! MIDI file saved as: chordprog_4-4_div1_bars4_roots_C-E-F-A_bedroom-pop.mid\n",
      "MIDI file generated: chordprog_4-4_div1_bars4_roots_C-E-F-A_bedroom-pop.mid\n"
     ]
    }
   ],
   "source": [
    "from music_tools import MusicLib\n",
    "\n",
    "time_signature = (4, 4)       # 4/4 time\n",
    "time_division = 1             # whole notes\n",
    "bars = 4                      # 4 bars\n",
    "root_notes = [\"C\", \"E\", \"F\", \"A\"]\n",
    "vibe = \"bedroom pop\"\n",
    "\n",
    "output_file = MusicLib.generate_chord_progression_midi(\n",
    "    time_signature=time_signature,\n",
    "    time_division=time_division,\n",
    "    root_notes=root_notes,\n",
    "    bars=bars,\n",
    "    vibe=vibe\n",
    "    # filename is optional, will be auto-generated\n",
    ")\n",
    "\n",
    "print(f\"MIDI file generated: {output_file}\")"
   ]
  }
 ],
 "metadata": {
  "kernelspec": {
   "display_name": "Python 3 (ipykernel)",
   "language": "python",
   "name": "python3"
  },
  "language_info": {
   "codemirror_mode": {
    "name": "ipython",
    "version": 3
   },
   "file_extension": ".py",
   "mimetype": "text/x-python",
   "name": "python",
   "nbconvert_exporter": "python",
   "pygments_lexer": "ipython3",
   "version": "3.12.10"
  }
 },
 "nbformat": 4,
 "nbformat_minor": 5
}
